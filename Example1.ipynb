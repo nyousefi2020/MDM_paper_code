{
 "cells": [
  {
   "cell_type": "code",
   "execution_count": null,
   "metadata": {},
   "outputs": [],
   "source": [
    "# Import necessary packages\n",
    "import gurobipy as gp\n",
    "from gurobipy import GRB\n",
    "\n",
    "# Create a model object\n",
    "m = gp.Model('HIV')\n",
    "\n",
    "# DECISION VARIABLES\n",
    "# Create continuous variables\n",
    "# indicating the number of people reached by each of 3 programs\n",
    "x = m.addVars(3,vtype=GRB.CONTINUOUS,name=\"Program\")\n",
    "\n",
    "# PARAMETERS\n",
    "# costs, per person reached, by each of 3 types of programs\n",
    "c = [1200,1400,10]\n",
    "#total cost\n",
    "cost = x[0]*c[0]+x[1]*c[1]+x[2]*c[2]\n",
    "\n",
    "# QALYs gained, per person reached, by each of 3 programs\n",
    "a = [15.53,1.24,0.5]\n",
    "# total qalys\n",
    "qalys = x[0]*a[0]+x[1]*a[1]+x[2]*a[2]\n",
    "\n",
    "# Budget\n",
    "B = 10000\n",
    "\n",
    "# CONSTRAINTS\n",
    "# Budget\n",
    "m.addConstr(cost==B)\n",
    "\n",
    "# Limits\n",
    "x[0].lb=5\n",
    "x[0].ub=20\n",
    "x[1].lb=1\n",
    "x[1].ub=30\n",
    "x[2].lb=1\n",
    "x[2].ub=30\n",
    "\n",
    "# OBJECTIVE\n",
    "# total QALYs\n",
    "m.setObjective(qalys, GRB.MAXIMIZE)\n",
    "\n",
    "# Optimize\n",
    "m.optimize()\n",
    "\n",
    "# Print solutions\n",
    "for v in m.getVars():\n",
    "    print(\"%s=%g\" % (v.varName, v.x))\n",
    "print(\"Max QALYS= %g\" % m.objVal)\n"
   ]
  }
 ],
 "metadata": {
  "kernelspec": {
   "display_name": "Python 3",
   "language": "python",
   "name": "python3"
  },
  "language_info": {
   "codemirror_mode": {
    "name": "ipython",
    "version": 3
   },
   "file_extension": ".py",
   "mimetype": "text/x-python",
   "name": "python",
   "nbconvert_exporter": "python",
   "pygments_lexer": "ipython3",
   "version": "3.8.3"
  }
 },
 "nbformat": 4,
 "nbformat_minor": 4
}
