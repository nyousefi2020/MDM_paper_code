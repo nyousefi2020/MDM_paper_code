{
 "cells": [
  {
   "cell_type": "code",
   "execution_count": 1,
   "metadata": {},
   "outputs": [
    {
     "name": "stdout",
     "output_type": "stream",
     "text": [
      "Using license file /Users/nasrin2020/gurobi.lic\n",
      "Academic license - for non-commercial use only\n",
      "Gurobi Optimizer version 9.0.3 build v9.0.3rc0 (mac64)\n",
      "Optimize a model with 1 rows, 3 columns and 3 nonzeros\n",
      "Model fingerprint: 0x0ab926a7\n",
      "Coefficient statistics:\n",
      "  Matrix range     [1e+01, 1e+03]\n",
      "  Objective range  [5e-01, 2e+01]\n",
      "  Bounds range     [1e+00, 3e+01]\n",
      "  RHS range        [1e+04, 1e+04]\n",
      "Presolve removed 1 rows and 3 columns\n",
      "Presolve time: 0.01s\n",
      "Presolve: All rows and columns removed\n",
      "Iteration    Objective       Primal Inf.    Dual Inf.      Time\n",
      "       0    1.2365583e+02   0.000000e+00   0.000000e+00      0s\n",
      "\n",
      "Solved in 0 iterations and 0.01 seconds\n",
      "Optimal objective  1.236558333e+02\n",
      "[ 6.91666667  1.         30.        ]\n",
      "123.65583333333333\n"
     ]
    }
   ],
   "source": [
    "# Import necessary packages\n",
    "import gurobipy as gp\n",
    "from gurobipy import GRB\n",
    "import numpy as np\n",
    "\n",
    "# PARAMETERS\n",
    "# costs, per person reached, by each of 3 types of programs\n",
    "c = np.array([1200,1400,10])\n",
    "\n",
    "# QALYs gained, per person reached, by each of 3 programs\n",
    "a = np.array([15.53,1.24,0.5])\n",
    "\n",
    "# Limits in array form\n",
    "x_min = np.array([5,1,1])\n",
    "x_max = np.array([20,30,30]) \n",
    "\n",
    "# Budget\n",
    "B = 10000\n",
    "\n",
    "# Create a model object\n",
    "m = gp.Model('HIV')\n",
    "\n",
    "# DECISION VARIABLES\n",
    "x = m.addMVar(3, lb=x_min, ub=x_max, vtype=GRB.CONTINUOUS, name=\"Program\")\n",
    "\n",
    "# CONSTRAINT\n",
    "# Budget\n",
    "m.addConstr(c@x == B)\n",
    "\n",
    "# OBJECTIVE\n",
    "# total QALYs\n",
    "m.setObjective(a@x, GRB.MAXIMIZE)\n",
    "\n",
    "# optimize\n",
    "m.optimize()\n",
    "\n",
    "# Print solutions\n",
    "print(x.X)\n",
    "print(m.objVal)\n"
   ]
  },
  {
   "cell_type": "code",
   "execution_count": null,
   "metadata": {},
   "outputs": [],
   "source": []
  }
 ],
 "metadata": {
  "kernelspec": {
   "display_name": "Python 3",
   "language": "python",
   "name": "python3"
  },
  "language_info": {
   "codemirror_mode": {
    "name": "ipython",
    "version": 3
   },
   "file_extension": ".py",
   "mimetype": "text/x-python",
   "name": "python",
   "nbconvert_exporter": "python",
   "pygments_lexer": "ipython3",
   "version": "3.8.3"
  }
 },
 "nbformat": 4,
 "nbformat_minor": 4
}
