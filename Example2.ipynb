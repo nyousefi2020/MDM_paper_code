{
 "cells": [
  {
   "cell_type": "code",
   "execution_count": null,
   "metadata": {},
   "outputs": [],
   "source": [
    "# Import necessary packages\n",
    "import gurobipy as gp\n",
    "from gurobipy import GRB\n",
    "import numpy as np\n",
    "import pandas as pd\n",
    "\n",
    "# Load the data set that contains distances between \n",
    "# cardiac arrests and potential AED locations\n",
    "covered = pd.read_csv('Example2_distanceMatrix.csv', index_col='ID')\n",
    "\n",
    "# PARAMETERS\n",
    "# Coverage cutoff limit \n",
    "coverage_distance = 175\n",
    "\n",
    "# Number of AEDs to be placed \n",
    "K = 10\n",
    "\n",
    "# Compute a_ij, which states whether each cardiac arrest is\n",
    "# within the coverage distance of each potential AED location\n",
    "covered = (covered <= coverage_distance).astype(int)\n",
    "n_cases = covered.shape[0]\n",
    "n_candidates = covered.shape[1]\n",
    "A = pd.DataFrame.to_numpy(covered)\n",
    "\n",
    "# Create a model object\n",
    "m = gp.Model('AED')\n",
    "\n",
    "# DECISION VARIABLES\n",
    "x = m.addMVar(n_candidates, vtype = GRB.BINARY, name=\"x\")\n",
    "y = m.addMVar(n_cases, vtype = GRB.BINARY, name=\"y\")\n",
    "\n",
    "# CONSTRAINTS\n",
    "# Coverage constraint\n",
    "m.addConstr(A@x>=y)\n",
    "\n",
    "# Number of AEDs constraint\n",
    "m.addConstr(x.sum()==K)\n",
    "\n",
    "# OBJECTIVE\n",
    "m.setObjective(y.sum(), gp.GRB.MAXIMIZE)\n",
    "\n",
    "# Optimize\n",
    "m.optimize()\n",
    "\n",
    "# Print solutions\n",
    "print(x.X)\n",
    "print(y.X)\n",
    "print(m.objVal)\n"
   ]
  },
  {
   "cell_type": "code",
   "execution_count": null,
   "metadata": {},
   "outputs": [],
   "source": []
  }
 ],
 "metadata": {
  "kernelspec": {
   "display_name": "Python 3",
   "language": "python",
   "name": "python3"
  },
  "language_info": {
   "codemirror_mode": {
    "name": "ipython",
    "version": 3
   },
   "file_extension": ".py",
   "mimetype": "text/x-python",
   "name": "python",
   "nbconvert_exporter": "python",
   "pygments_lexer": "ipython3",
   "version": "3.8.3"
  }
 },
 "nbformat": 4,
 "nbformat_minor": 4
}
